{
 "cells": [
  {
   "cell_type": "markdown",
   "metadata": {},
   "source": [
    "# Utility\n"
   ]
  },
  {
   "cell_type": "code",
   "execution_count": null,
   "metadata": {},
   "outputs": [],
   "source": [
    "ANSI_CLEAR = \"\\x1b[0m\"\n",
    "ANSI_BG_RED = \"\\x1b[41m\"\n",
    "ANSI_BG_GREEN = \"\\x1b[42m\"\n",
    "ANSI_BG_YELLOW = \"\\x1b[43m\"\n",
    "ANSI_BG_BLUE = \"\\x1b[44m\"\n",
    "ANSI_BG_MAGENTA = \"\\x1b[45m\"\n",
    "ANSI_BG_CYAN = \"\\x1b[46m\"\n",
    "ANSI_BG_WHITE = \"\\x1b[47m\"\n",
    "ANSI_FG_BLACK = \"\\x1b[30m\"\n",
    "ANSI_COLOURS = [ANSI_BG_RED, ANSI_BG_GREEN, ANSI_BG_YELLOW,\n",
    "                ANSI_BG_BLUE, ANSI_BG_MAGENTA, ANSI_BG_CYAN, ANSI_BG_WHITE]\n",
    "\n",
    "\n",
    "def print_highlighted(text, highlights):\n",
    "    colour_mapping = {}\n",
    "    current_colour = 0\n",
    "    for highlight in highlights:\n",
    "        if highlight not in colour_mapping and highlight != 0:\n",
    "            colour_mapping[highlight] = ANSI_COLOURS[current_colour]\n",
    "            current_colour = (current_colour + 1) % len(ANSI_COLOURS)\n",
    "\n",
    "    for i in range(len(text)):\n",
    "        if highlights[i] in colour_mapping:\n",
    "            print(f\"{\n",
    "                colour_mapping[highlights[i]] +\n",
    "                ANSI_FG_BLACK +\n",
    "                text[i] +\n",
    "                ANSI_CLEAR}\", end=\"\")\n",
    "        else:\n",
    "            print(text[i], end=\"\")\n",
    "    print()"
   ]
  },
  {
   "cell_type": "markdown",
   "metadata": {},
   "source": [
    "# Cryptography\n"
   ]
  },
  {
   "cell_type": "code",
   "execution_count": 21,
   "metadata": {},
   "outputs": [],
   "source": [
    "def encode_caeser(a, pt, shift):\n",
    "    ct = \"\"\n",
    "    for char in pt:\n",
    "        if char == ' ':\n",
    "            ct += ' '\n",
    "            continue\n",
    "        ct += a[(a.index(char) + shift) % len(a)]\n",
    "    return ct"
   ]
  },
  {
   "cell_type": "code",
   "execution_count": 22,
   "metadata": {},
   "outputs": [],
   "source": [
    "def encode_caeser_progressive(a, pt, shift):\n",
    "    ct = \"\"\n",
    "    for char in pt:\n",
    "        if char == ' ':\n",
    "            ct += ' '\n",
    "            shift += 1\n",
    "            continue\n",
    "        ct += a[(a.index(char) + shift) % len(a)]\n",
    "    return ct"
   ]
  },
  {
   "cell_type": "markdown",
   "metadata": {},
   "source": [
    "# Analysis\n"
   ]
  },
  {
   "cell_type": "code",
   "execution_count": 23,
   "metadata": {},
   "outputs": [],
   "source": [
    "def calc_difference(a, pt_a, pt_b):\n",
    "    out = \"\"\n",
    "    for i in range(len(pt_a)):\n",
    "        if pt_a[i] == ' ' or pt_b[i] == ' ':\n",
    "            out += ' '\n",
    "            continue\n",
    "        out += a[(a.index(pt_b[i]) - a.index(pt_a[i])) % len(a)]\n",
    "    return out"
   ]
  },
  {
   "cell_type": "code",
   "execution_count": 43,
   "metadata": {},
   "outputs": [],
   "source": [
    "def calc_gaps(pt, limit=-1):\n",
    "    gaps = []\n",
    "    positions = {}\n",
    "    for i in range(len(pt)):\n",
    "        gaps.append(0)\n",
    "        if pt[i] in positions and pt[i] != ' ':\n",
    "            if limit == -1 or i - positions[pt[i]] <= limit:\n",
    "                gaps[positions[pt[i]]] = i - positions[pt[i]]\n",
    "        positions[pt[i]] = i\n",
    "    return gaps"
   ]
  },
  {
   "cell_type": "markdown",
   "metadata": {},
   "source": [
    "# Usage\n"
   ]
  },
  {
   "cell_type": "markdown",
   "metadata": {},
   "source": [
    "`pt <-> ct` isomorph using `caeser`.\n"
   ]
  },
  {
   "cell_type": "code",
   "execution_count": 49,
   "metadata": {},
   "outputs": [
    {
     "name": "stdout",
     "output_type": "stream",
     "text": [
      "\u001b[41m\u001b[30mE\u001b[0mV\u001b[42m\u001b[30mE\u001b[0m\u001b[42m\u001b[30mR\u001b[0m\u001b[43m\u001b[30mY\u001b[0m \u001b[44m\u001b[30mS\u001b[0m\u001b[45m\u001b[30mU\u001b[0m\u001b[46m\u001b[30mB\u001b[0m\u001b[42m\u001b[30mS\u001b[0m\u001b[41m\u001b[30mT\u001b[0m\u001b[47m\u001b[30mI\u001b[0m\u001b[41m\u001b[30mT\u001b[0m\u001b[41m\u001b[30mU\u001b[0m\u001b[42m\u001b[30mT\u001b[0m\u001b[43m\u001b[30mI\u001b[0m\u001b[46m\u001b[30mO\u001b[0m\u001b[44m\u001b[30mN\u001b[0m C\u001b[45m\u001b[30mI\u001b[0mPH\u001b[47m\u001b[30mE\u001b[0mR \u001b[45m\u001b[30mN\u001b[0m\u001b[46m\u001b[30mE\u001b[0m\u001b[47m\u001b[30mE\u001b[0mD\u001b[47m\u001b[30mS\u001b[0m A \u001b[44m\u001b[30mS\u001b[0m\u001b[45m\u001b[30mU\u001b[0mBS\u001b[41m\u001b[30mT\u001b[0m\u001b[47m\u001b[30mI\u001b[0m\u001b[41m\u001b[30mT\u001b[0mUTION KEY\n",
      "\u001b[41m\u001b[30mF\u001b[0mW\u001b[42m\u001b[30mF\u001b[0m\u001b[42m\u001b[30mS\u001b[0m\u001b[43m\u001b[30mZ\u001b[0m \u001b[44m\u001b[30mT\u001b[0m\u001b[45m\u001b[30mV\u001b[0m\u001b[46m\u001b[30mC\u001b[0m\u001b[42m\u001b[30mT\u001b[0m\u001b[41m\u001b[30mU\u001b[0m\u001b[47m\u001b[30mJ\u001b[0m\u001b[41m\u001b[30mU\u001b[0m\u001b[41m\u001b[30mV\u001b[0m\u001b[42m\u001b[30mU\u001b[0m\u001b[43m\u001b[30mJ\u001b[0m\u001b[46m\u001b[30mP\u001b[0m\u001b[44m\u001b[30mO\u001b[0m D\u001b[45m\u001b[30mJ\u001b[0mQI\u001b[47m\u001b[30mF\u001b[0mS \u001b[45m\u001b[30mO\u001b[0m\u001b[46m\u001b[30mF\u001b[0m\u001b[47m\u001b[30mF\u001b[0mE\u001b[47m\u001b[30mT\u001b[0m B \u001b[44m\u001b[30mT\u001b[0m\u001b[45m\u001b[30mV\u001b[0mCT\u001b[41m\u001b[30mU\u001b[0m\u001b[47m\u001b[30mJ\u001b[0m\u001b[41m\u001b[30mU\u001b[0mVUJPO LFZ\n"
     ]
    }
   ],
   "source": [
    "alphabet = \"ABCDEFGHIJKLMNOPQRSTUVWXYZ\"\n",
    "pt = \"EVERY SUBSTITUTION CIPHER NEEDS A SUBSTITUTION KEY\"\n",
    "ct = encode_caeser(alphabet, pt, 1)\n",
    "\n",
    "print_highlighted(pt, calc_gaps(pt))\n",
    "print_highlighted(ct, calc_gaps(ct))"
   ]
  },
  {
   "cell_type": "markdown",
   "metadata": {},
   "source": [
    "`ct <-> ct` isomorph using `caeser_progressive`.\n"
   ]
  },
  {
   "cell_type": "code",
   "execution_count": null,
   "metadata": {},
   "outputs": [
    {
     "name": "stdout",
     "output_type": "stream",
     "text": [
      "\u001b[41m\u001b[30mS\u001b[0m\u001b[42m\u001b[30mU\u001b[0mBS\u001b[43m\u001b[30mT\u001b[0m\u001b[44m\u001b[30mI\u001b[0m\u001b[43m\u001b[30mT\u001b[0mUTION\n",
      "\u001b[41m\u001b[30mU\u001b[0m\u001b[42m\u001b[30mW\u001b[0mDU\u001b[43m\u001b[30mV\u001b[0m\u001b[44m\u001b[30mK\u001b[0m\u001b[43m\u001b[30mV\u001b[0mWVKQP\n",
      "\u001b[41m\u001b[30mY\u001b[0m\u001b[42m\u001b[30mA\u001b[0mHY\u001b[43m\u001b[30mZ\u001b[0m\u001b[44m\u001b[30mO\u001b[0m\u001b[43m\u001b[30mZ\u001b[0mAZOUT\n"
     ]
    }
   ],
   "source": [
    "alphabet = \"ABCDEFGHIJKLMNOPQRSTUVWXYZ\"\n",
    "pt = \"EVERY SUBSTITUTION CIPHER NEEDS A SUBSTITUTION KEY\"\n",
    "ct = encode_caeser_progressive(alphabet, pt, 1)\n",
    "\n",
    "pt_word_2 = pt.split(\" \")[1]\n",
    "ct_word_2 = ct.split(\" \")[1]\n",
    "ct_word_6 = ct.split(\" \")[5]\n",
    "\n",
    "print_highlighted(pt_word_2, calc_gaps(pt_word_2, limit=8))\n",
    "print_highlighted(ct_word_2, calc_gaps(ct_word_2, limit=8))\n",
    "print_highlighted(ct_word_6, calc_gaps(ct_word_6, limit=8))"
   ]
  }
 ],
 "metadata": {
  "kernelspec": {
   "display_name": "Python 3",
   "language": "python",
   "name": "python3"
  },
  "language_info": {
   "codemirror_mode": {
    "name": "ipython",
    "version": 3
   },
   "file_extension": ".py",
   "mimetype": "text/x-python",
   "name": "python",
   "nbconvert_exporter": "python",
   "pygments_lexer": "ipython3",
   "version": "3.13.0"
  }
 },
 "nbformat": 4,
 "nbformat_minor": 2
}
