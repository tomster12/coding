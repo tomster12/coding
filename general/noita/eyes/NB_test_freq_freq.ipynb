{
 "cells": [
  {
   "cell_type": "code",
   "execution_count": null,
   "metadata": {},
   "outputs": [],
   "source": [
    "from locallib import eyeutil\n",
    "from collections import Counter"
   ]
  },
  {
   "cell_type": "code",
   "execution_count": 8,
   "metadata": {},
   "outputs": [
    {
     "name": "stdout",
     "output_type": "stream",
     "text": [
      "Counter({1: 26, 2: 23, 3: 5, 4: 3})\n",
      "57 57\n",
      "Counter({1: 25, 2: 22, 3: 8, 5: 2})\n",
      "57 57\n",
      "Counter({1: 25, 2: 22, 3: 11, 4: 4})\n",
      "62 62\n",
      "Counter({1: 32, 2: 21, 3: 4, 4: 4})\n",
      "61 61\n",
      "Counter({1: 26, 2: 24, 3: 8, 4: 7, 6: 1, 5: 1})\n",
      "67 67\n",
      "Counter({1: 28, 2: 21, 3: 13, 6: 1, 5: 1, 4: 1})\n",
      "65 65\n",
      "Counter({1: 28, 2: 18, 3: 10, 4: 5, 5: 1})\n",
      "62 62\n",
      "Counter({1: 31, 2: 28, 3: 5, 5: 2, 4: 2})\n",
      "68 68\n",
      "Counter({1: 28, 2: 23, 3: 9, 4: 2, 5: 1})\n",
      "63 63\n"
     ]
    }
   ],
   "source": [
    "# Calculate the frequency of each frequency in the messages\n",
    "msg_freqs = []\n",
    "for msg in eyeutil.msgs_eye_tri:\n",
    "    msg_freq = Counter(msg)\n",
    "    freq_freq = Counter(msg_freq.values())\n",
    "    msg_freqs.append(msg_freq)\n",
    "    print(freq_freq)\n",
    "    check = sum(freq_freq.values())\n",
    "    real = len(set(msg))\n",
    "    print(check, real)\n"
   ]
  },
  {
   "cell_type": "code",
   "execution_count": null,
   "metadata": {},
   "outputs": [],
   "source": []
  }
 ],
 "metadata": {
  "kernelspec": {
   "display_name": "Python 3",
   "language": "python",
   "name": "python3"
  },
  "language_info": {
   "codemirror_mode": {
    "name": "ipython",
    "version": 3
   },
   "file_extension": ".py",
   "mimetype": "text/x-python",
   "name": "python",
   "nbconvert_exporter": "python",
   "pygments_lexer": "ipython3",
   "version": "3.13.0"
  }
 },
 "nbformat": 4,
 "nbformat_minor": 2
}
