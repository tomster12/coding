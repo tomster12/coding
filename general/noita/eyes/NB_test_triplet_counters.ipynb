{
 "cells": [
  {
   "cell_type": "code",
   "execution_count": 33,
   "metadata": {},
   "outputs": [],
   "source": [
    "from locallib import eyeutil\n",
    "from collections import Counter\n"
   ]
  },
  {
   "cell_type": "code",
   "execution_count": 22,
   "metadata": {},
   "outputs": [],
   "source": [
    "def get_runs_from_counter(counter):\n",
    "    runs = []\n",
    "    current_run = None\n",
    "    for i in range(0, 125):\n",
    "\n",
    "        if counter[i] > 0:\n",
    "            current_run = current_run or [i, i]\n",
    "            current_run[1] = i\n",
    "\n",
    "        elif current_run is not None:\n",
    "            runs.append(current_run)\n",
    "            current_run = None\n",
    "\n",
    "    if current_run is not None:\n",
    "        runs.append(current_run)\n",
    "\n",
    "    return runs"
   ]
  },
  {
   "cell_type": "code",
   "execution_count": 32,
   "metadata": {},
   "outputs": [
    {
     "name": "stdout",
     "output_type": "stream",
     "text": [
      "0: [[0, 5], [8, 8], [11, 16], [19, 21], [24, 26], [28, 33], [40, 44], [47, 51], [54, 54], [56, 57], [59, 67], [70, 72], [74, 75], [78, 82]]\n",
      "1: [[0, 2], [5, 6], [8, 11], [13, 15], [17, 21], [23, 26], [28, 30], [32, 34], [36, 37], [42, 44], [46, 49], [52, 52], [54, 54], [57, 57], [59, 59], [61, 62], [64, 68], [70, 70], [72, 73], [75, 75], [77, 82]]\n",
      "2: [[0, 6], [8, 11], [13, 16], [18, 26], [29, 32], [34, 34], [36, 38], [40, 42], [44, 45], [47, 49], [51, 54], [56, 57], [60, 66], [69, 70], [72, 72], [75, 78], [80, 81]]\n",
      "3: [[1, 1], [3, 3], [5, 18], [20, 21], [23, 26], [29, 29], [31, 32], [34, 37], [42, 50], [52, 56], [60, 66], [68, 71], [75, 78], [80, 82]]\n",
      "4: [[0, 9], [11, 22], [24, 25], [29, 31], [35, 37], [39, 50], [54, 60], [63, 71], [73, 76], [78, 82]]\n",
      "5: [[0, 0], [2, 6], [8, 11], [13, 19], [21, 26], [28, 28], [30, 30], [32, 44], [46, 51], [53, 55], [57, 58], [60, 62], [64, 64], [66, 71], [73, 76], [79, 79], [81, 81]]\n",
      "6: [[1, 7], [9, 9], [11, 11], [13, 15], [17, 19], [22, 23], [25, 29], [31, 31], [33, 34], [36, 36], [38, 40], [42, 45], [47, 51], [54, 60], [62, 70], [72, 73], [75, 80]]\n",
      "7: [[0, 6], [8, 9], [11, 11], [14, 27], [29, 32], [34, 40], [42, 44], [46, 47], [49, 51], [53, 57], [59, 60], [63, 69], [71, 75], [77, 82]]\n",
      "8: [[2, 3], [5, 10], [12, 12], [15, 15], [18, 34], [36, 36], [40, 42], [44, 49], [51, 55], [57, 64], [66, 76], [79, 80]]\n",
      "\n",
      "1-3: [[0, 6], [8, 26], [28, 34], [36, 38], [40, 54], [56, 57], [59, 82]]\n",
      "4-6: [[0, 26], [28, 71], [73, 82]]\n",
      "7-9: [[0, 82]]\n",
      "\n",
      "All: [[0, 82]]\n"
     ]
    }
   ],
   "source": [
    "counters = [ Counter(msg) for msg in eyeutil.msgs_eye_tri ]\n",
    "\n",
    "counters_triplets = [\n",
    "    counters[0] + counters[1] + counters[2],\n",
    "    counters[3] + counters[4] + counters[5],\n",
    "    counters[6] + counters[7] + counters[8]\n",
    "]\n",
    "\n",
    "counters_all = counters_triplets[0] + counters_triplets[1] + counters_triplets[2]\n",
    "\n",
    "for i, counter in enumerate(counters):\n",
    "    print(f\"{i}: {get_runs_from_counter(counter)}\")\n",
    "print(\"\")\n",
    "\n",
    "print(f\"1-3: {get_runs_from_counter(counters_triplets[0])}\")\n",
    "print(f\"4-6: {get_runs_from_counter(counters_triplets[1])}\")\n",
    "print(f\"7-9: {get_runs_from_counter(counters_triplets[2])}\")\n",
    "print(\"\")\n",
    "\n",
    "print(f\"All: {get_runs_from_counter(counters_all)}\")\n"
   ]
  },
  {
   "cell_type": "code",
   "execution_count": null,
   "metadata": {},
   "outputs": [],
   "source": []
  }
 ],
 "metadata": {
  "kernelspec": {
   "display_name": "Python 3",
   "language": "python",
   "name": "python3"
  },
  "language_info": {
   "codemirror_mode": {
    "name": "ipython",
    "version": 3
   },
   "file_extension": ".py",
   "mimetype": "text/x-python",
   "name": "python",
   "nbconvert_exporter": "python",
   "pygments_lexer": "ipython3",
   "version": "3.11.1"
  }
 },
 "nbformat": 4,
 "nbformat_minor": 2
}
